{
 "cells": [
  {
   "cell_type": "code",
   "execution_count": 1,
   "metadata": {},
   "outputs": [],
   "source": [
    "import numpy as np\n",
    "import matplotlib.pyplot as plt\n",
    "import time\n",
    "from SGA import SGA\n",
    "from PMX import PMX\n",
    "from OX import OX\n",
    "from LOX import LOX\n",
    "from utils import *\n",
    "from data import berlin52\n",
    "%load_ext autoreload\n",
    "%autoreload 2\n",
    "%matplotlib inline"
   ]
  },
  {
   "cell_type": "markdown",
   "metadata": {},
   "source": [
    "# Optymalny wynik: 7544.3659019"
   ]
  },
  {
   "cell_type": "code",
   "execution_count": null,
   "metadata": {
    "scrolled": true
   },
   "outputs": [],
   "source": [
    "%%capture output \n",
    "data, n = berlin52()\n",
    "population_size = 2000\n",
    "chromosome_length = n\n",
    "number_of_offspring = population_size\n",
    "crossover_probability = 0.95\n",
    "mutation_probability = 0.25\n",
    "number_of_iterations = 250\n",
    "\n",
    "for op in [PMX, OX, LOX]:\n",
    "    kwargs = {  \n",
    "        'population_size':population_size,\n",
    "        'chromosome_length': n,\n",
    "        'number_of_offspring':number_of_offspring,\n",
    "        'crossover_probability':crossover_probability,\n",
    "        'mutation_probability':mutation_probability,\n",
    "        'number_of_iterations':number_of_iterations,\n",
    "        'tsp_objective_function':lambda x: tsp_objective_function_2(x, data, n),\n",
    "        'operator':op,\n",
    "        'mutation':reverse_sequence_mutation,\n",
    "    }\n",
    "    plot_scores(title=op.__name__, file=True, filename=\"z2\", **kwargs)"
   ]
  },
  {
   "cell_type": "code",
   "execution_count": null,
   "metadata": {
    "collapsed": true
   },
   "outputs": [],
   "source": [
    "output.show()"
   ]
  },
  {
   "cell_type": "code",
   "execution_count": null,
   "metadata": {
    "collapsed": true
   },
   "outputs": [],
   "source": []
  }
 ],
 "metadata": {
  "kernelspec": {
   "display_name": "Python 3",
   "language": "python",
   "name": "python3"
  },
  "language_info": {
   "codemirror_mode": {
    "name": "ipython",
    "version": 3
   },
   "file_extension": ".py",
   "mimetype": "text/x-python",
   "name": "python",
   "nbconvert_exporter": "python",
   "pygments_lexer": "ipython3",
   "version": "3.6.3"
  }
 },
 "nbformat": 4,
 "nbformat_minor": 2
}
