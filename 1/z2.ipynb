{
 "cells": [
  {
   "cell_type": "code",
   "execution_count": null,
   "metadata": {
    "collapsed": true
   },
   "outputs": [],
   "source": [
    "import numpy as np\n",
    "from numpy.random import random as srand\n",
    "import matplotlib.pyplot as plt"
   ]
  },
  {
   "cell_type": "code",
   "execution_count": null,
   "metadata": {
    "collapsed": true
   },
   "outputs": [],
   "source": [
    "oneMax = lambda x: np.sum(x, axis=0)\n",
    "def deceptive_oneMax(x):\n",
    "    vec_zero = np.sum(x == 0, axis=0) == x.shape[0]\n",
    "    return vec_zero * x.shape[0] + (1 - vec_zero) * (np.sum(x, axis=0) - 1)\n"
   ]
  },
  {
   "cell_type": "code",
   "execution_count": null,
   "metadata": {
    "collapsed": true
   },
   "outputs": [],
   "source": [
    "def pbil(F, d, N, th1, th2, th3, steps=500):\n",
    "    \n",
    "    def random_pop(p, d, N):\n",
    "        population = srand((d, N))\n",
    "        return population < p\n",
    "    \n",
    "    def get_score(scores):\n",
    "        return np.max(scores), np.mean(scores), np.min(scores)\n",
    "    \n",
    "    \n",
    "    plot_probs = []\n",
    "    plot_scores = []\n",
    "    \n",
    "    p = np.ones((d, 1)) / 2\n",
    "    population = random_pop(p, d, N)\n",
    "    result = F(population)\n",
    "    \n",
    "    plot_probs.append(p)\n",
    "    plot_scores.append(get_score(result))\n",
    "    \n",
    "    for _ in range(steps - 1):\n",
    "        best = population[:, [np.argmax(result)]]\n",
    "        p = p * (1 - th1) + best * th1\n",
    "        \n",
    "        if_change = srand((d,1)) < th2\n",
    "        p = p * (1 - if_change) + (\n",
    "            (if_change) * (\n",
    "                p * (1 - th3)\n",
    "                + (srand((d,1)) < 0.5) * th3\n",
    "            )\n",
    "        )\n",
    "        \n",
    "        population = random_pop(p, d, N)\n",
    "        result = F(population)\n",
    "        \n",
    "        plot_probs.append(p)\n",
    "        plot_scores.append(get_score(result))\n",
    "    \n",
    "    return np.array(plot_scores), np.array(plot_probs)\n",
    "        \n",
    "def plot_results(scores, probs, title=\"\"):\n",
    "    fig, axs = plt.subplots(1, 2, figsize=(15, 5))\n",
    "    fig.suptitle(title)\n",
    "    for i in range(scores.shape[1]):\n",
    "        axs[0].plot(range(scores.shape[0]), scores[:, i])\n",
    "    \n",
    "    for i in range(probs.shape[1]):\n",
    "        axs[1].plot(range(probs.shape[0]), probs[:,i,0])\n",
    "    plt.show()"
   ]
  },
  {
   "cell_type": "code",
   "execution_count": null,
   "metadata": {},
   "outputs": [],
   "source": [
    "for f in [\"oneMax\", \"deceptive_oneMax\"]:\n",
    "    plot_results(*pbil(eval(f), d=100, N=125, th1=0.01, th2=0.05, th3=0.01, steps=1000), f)"
   ]
  },
  {
   "cell_type": "code",
   "execution_count": null,
   "metadata": {
    "scrolled": false
   },
   "outputs": [],
   "source": [
    "for d in range(10,500,50):\n",
    "    plot_results(*pbil(oneMax, d=d, N=125, th1=0.01, th2=0.05, th3=0.01, steps=1000), f\"d: {d}\")"
   ]
  },
  {
   "cell_type": "code",
   "execution_count": null,
   "metadata": {
    "scrolled": false
   },
   "outputs": [],
   "source": [
    "for N in list(range(10,60,10)) + list(range(100, 500, 100)):\n",
    "    plot_results(*pbil(oneMax, d=100, N=N, th1=0.01, th2=0.05, th3=0.01, steps=1000), f\"N: {N}\")"
   ]
  },
  {
   "cell_type": "code",
   "execution_count": null,
   "metadata": {
    "collapsed": true
   },
   "outputs": [],
   "source": []
  }
 ],
 "metadata": {
  "kernelspec": {
   "display_name": "Python 3",
   "language": "python",
   "name": "python3"
  },
  "language_info": {
   "codemirror_mode": {
    "name": "ipython",
    "version": 3
   },
   "file_extension": ".py",
   "mimetype": "text/x-python",
   "name": "python",
   "nbconvert_exporter": "python",
   "pygments_lexer": "ipython3",
   "version": "3.7.0"
  }
 },
 "nbformat": 4,
 "nbformat_minor": 2
}
