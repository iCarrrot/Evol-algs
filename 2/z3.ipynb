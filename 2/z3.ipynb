{
 "cells": [
  {
   "cell_type": "code",
   "execution_count": 3,
   "metadata": {},
   "outputs": [
    {
     "name": "stdout",
     "output_type": "stream",
     "text": [
      "The autoreload extension is already loaded. To reload it, use:\n",
      "  %reload_ext autoreload\n"
     ]
    }
   ],
   "source": [
    "import numpy as np\n",
    "import matplotlib.pyplot as plt\n",
    "import time\n",
    "from SGA import SGA\n",
    "from PMX import PMX\n",
    "from OX import OX\n",
    "from LOX import LOX\n",
    "from MutationLocalSearch import mutation_local_search\n",
    "from utils import *\n",
    "from data import berlin52\n",
    "%load_ext autoreload\n",
    "%autoreload 2\n",
    "%matplotlib inline"
   ]
  },
  {
   "cell_type": "code",
   "execution_count": null,
   "metadata": {},
   "outputs": [
    {
     "name": "stdout",
     "output_type": "stream",
     "text": [
      "PING\n",
      "PING\n",
      "PING\n",
      "PING\n",
      "PING\n",
      "PING\n",
      "PING\n",
      "PING\n",
      "PING\n",
      "PING\n",
      "PING\n",
      "PING\n"
     ]
    }
   ],
   "source": [
    "data, n = berlin52()\n",
    "population_size = 500\n",
    "chromosome_length = n\n",
    "number_of_offspring = population_size\n",
    "crossover_probability = 0.95\n",
    "mutation_probability = 0.25\n",
    "number_of_iterations = 250\n",
    "\n",
    "# for i in [0.01, 0.1, 0.8]\n",
    "kwargs = {  \n",
    "    'population_size':population_size,\n",
    "    'chromosome_length': n,\n",
    "    'number_of_offspring':number_of_offspring,\n",
    "    'crossover_probability':crossover_probability,\n",
    "    'mutation_probability':mutation_probability,\n",
    "    'number_of_iterations':number_of_iterations,\n",
    "    'tsp_objective_function':lambda x: tsp_objective_function_2(x, data, n),\n",
    "    'operator':OX,\n",
    "    'mutation':reverse_sequence_mutation,\n",
    "    'local_search_mut_propability':0.0001,\n",
    "    'local_search_mut_K':3,\n",
    "}\n",
    "plot_scores(title='', **kwargs)"
   ]
  },
  {
   "cell_type": "code",
   "execution_count": null,
   "metadata": {},
   "outputs": [],
   "source": []
  }
 ],
 "metadata": {
  "kernelspec": {
   "display_name": "Python 3",
   "language": "python",
   "name": "python3"
  },
  "language_info": {
   "codemirror_mode": {
    "name": "ipython",
    "version": 3
   },
   "file_extension": ".py",
   "mimetype": "text/x-python",
   "name": "python",
   "nbconvert_exporter": "python",
   "pygments_lexer": "ipython3",
   "version": "3.7.2"
  }
 },
 "nbformat": 4,
 "nbformat_minor": 2
}
