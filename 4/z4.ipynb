{
 "cells": [
  {
   "cell_type": "code",
   "execution_count": 3,
   "metadata": {},
   "outputs": [],
   "source": [
    "import numpy as np\n",
    "import math\n",
    "import matplotlib.pyplot as plt\n",
    "\n",
    "%load_ext autoreload\n",
    "%autoreload 2\n",
    "%matplotlib inline"
   ]
  },
  {
   "cell_type": "code",
   "execution_count": 4,
   "metadata": {},
   "outputs": [],
   "source": [
    "from kinematics import *\n",
    "from es import es"
   ]
  },
  {
   "cell_type": "code",
   "execution_count": null,
   "metadata": {
    "scrolled": false
   },
   "outputs": [
    {
     "name": "stdout",
     "output_type": "stream",
     "text": [
      "Iteration 0000 : best score = -1.47471989, mean score = -14.84602150.\n",
      "Iteration 0010 : best score = -0.15588247, mean score = -3.23527162.\n",
      "Iteration 0020 : best score = -0.03835286, mean score = -1.11108468.\n",
      "Iteration 0030 : best score = -0.03835286, mean score = -0.73846931.\n",
      "Iteration 0040 : best score = -0.03835286, mean score = -0.58137522.\n",
      "Iteration 0050 : best score = -0.02400008, mean score = -0.48346984.\n",
      "Iteration 0060 : best score = -0.01847182, mean score = -0.41668514.\n",
      "Iteration 0070 : best score = -0.00886747, mean score = -0.36980685.\n",
      "Iteration 0080 : best score = -0.00886747, mean score = -0.32363665.\n",
      "Iteration 0090 : best score = -0.00886747, mean score = -0.29390072.\n",
      "Iteration 0100 : best score = -0.00886747, mean score = -0.27092956.\n",
      "Iteration 0110 : best score = -0.00886747, mean score = -0.24968632.\n",
      "Iteration 0120 : best score = -0.00886747, mean score = -0.22792256.\n",
      "Iteration 0130 : best score = -0.00886747, mean score = -0.21468929.\n",
      "Iteration 0140 : best score = -0.00886747, mean score = -0.20254149.\n",
      "Iteration 0150 : best score = -0.00886747, mean score = -0.18933642.\n",
      "Iteration 0160 : best score = -0.00886747, mean score = -0.17915868.\n",
      "Iteration 0170 : best score = -0.00886747, mean score = -0.16952736.\n",
      "Iteration 0180 : best score = -0.00886747, mean score = -0.16039307.\n",
      "Iteration 0190 : best score = -0.00719244, mean score = -0.15111910.\n",
      "Iteration 0200 : best score = -0.00719244, mean score = -0.14197729.\n",
      "Iteration 0210 : best score = -0.00719244, mean score = -0.13331474.\n",
      "Iteration 0220 : best score = -0.00719244, mean score = -0.12814716.\n",
      "Iteration 0230 : best score = -0.00719244, mean score = -0.12260786.\n",
      "Iteration 0240 : best score = -0.00719244, mean score = -0.11553116.\n",
      "Iteration 0250 : best score = -0.00719244, mean score = -0.10772885.\n",
      "Iteration 0260 : best score = -0.00719244, mean score = -0.10064307.\n",
      "Iteration 0270 : best score = -0.00719244, mean score = -0.09495530.\n",
      "Iteration 0280 : best score = -0.00719244, mean score = -0.09009084.\n",
      "Iteration 0290 : best score = -0.00719244, mean score = -0.08362804.\n",
      "Iteration 0300 : best score = -0.00535253, mean score = -0.07910946.\n",
      "Iteration 0310 : best score = -0.00535253, mean score = -0.07538790.\n",
      "Iteration 0320 : best score = -0.00535253, mean score = -0.07010066.\n",
      "Iteration 0330 : best score = -0.00535253, mean score = -0.06656498.\n",
      "Iteration 0340 : best score = -0.00535253, mean score = -0.06274803.\n",
      "Iteration 0350 : best score = -0.00535253, mean score = -0.05969738.\n",
      "Iteration 0360 : best score = -0.00535253, mean score = -0.05605598.\n",
      "Iteration 0370 : best score = -0.00456755, mean score = -0.05234829.\n",
      "Iteration 0380 : best score = -0.00456755, mean score = -0.04938473.\n",
      "Iteration 0390 : best score = -0.00456755, mean score = -0.04604114.\n",
      "Iteration 0400 : best score = -0.00442365, mean score = -0.04299223.\n",
      "Iteration 0410 : best score = -0.00316727, mean score = -0.04055341.\n",
      "Iteration 0420 : best score = -0.00111133, mean score = -0.03776448.\n",
      "Iteration 0430 : best score = -0.00053294, mean score = -0.03537677.\n",
      "Iteration 0440 : best score = -0.00053294, mean score = -0.03212509.\n",
      "Iteration 0450 : best score = -0.00053294, mean score = -0.02991304.\n",
      "Iteration 0460 : best score = -0.00038593, mean score = -0.02741518.\n",
      "Iteration 0470 : best score = -0.00038593, mean score = -0.02536852.\n",
      "Iteration 0480 : best score = -0.00038593, mean score = -0.02324707.\n",
      "Iteration 0490 : best score = -0.00038593, mean score = -0.02109320.\n",
      "Iteration 0500 : best score = -0.00038593, mean score = -0.01900736.\n",
      "Iteration 0510 : best score = -0.00038593, mean score = -0.01723095.\n",
      "Iteration 0520 : best score = -0.00038593, mean score = -0.01556137.\n",
      "Iteration 0530 : best score = -0.00038593, mean score = -0.01396034.\n",
      "Iteration 0540 : best score = -0.00038593, mean score = -0.01221373.\n",
      "Iteration 0550 : best score = -0.00038593, mean score = -0.01048166.\n",
      "Iteration 0560 : best score = -0.00038593, mean score = -0.00906924.\n",
      "Iteration 0570 : best score = -0.00038593, mean score = -0.00734556.\n",
      "Iteration 0580 : best score = -0.00032724, mean score = -0.00609477.\n",
      "Iteration 0590 : best score = -0.00018966, mean score = -0.00480012.\n",
      "Iteration 0600 : best score = -0.00018068, mean score = -0.00376750.\n",
      "Iteration 0610 : best score = -0.00018068, mean score = -0.00282135.\n",
      "Iteration 0620 : best score = -0.00018068, mean score = -0.00212174.\n",
      "Iteration 0630 : best score = -0.00015988, mean score = -0.00161843.\n",
      "Iteration 0640 : best score = -0.00003286, mean score = -0.00122709.\n",
      "Iteration 0650 : best score = -0.00003286, mean score = -0.00088713.\n"
     ]
    }
   ],
   "source": [
    "d = 20\n",
    "N = 800\n",
    "T = 800\n",
    "target = np.array([10,20])\n",
    "lengths = [1,3] * (d//2)\n",
    "ranges = np.array([[-180, 180]]*d).T\n",
    "best_objective_value, best_chromosome, history_objective_values, history_best_chromosome, history_best_sigmas, diag = es(\n",
    "    objective_function, d, N, T, 2*N, 2, 50.0, 1/np.sqrt(2*d), 1/np.sqrt(2*np.sqrt(d)), 10, \n",
    "    cut=True,\n",
    "    target = target, lengths=lengths, ranges=ranges)\n",
    "\n",
    "plt.figure(figsize=(18, 4))\n",
    "plt.plot(history_objective_values[:, 0],)\n",
    "plt.plot(history_objective_values[:, 1],)\n",
    "plt.plot(history_objective_values[:, 2],)\n",
    "plt.xlabel('iteration')\n",
    "plt.ylabel('objective function value')\n",
    "plt.title('min/avg/max objective function values')\n",
    "plt.show()\n",
    "\n",
    "plt.figure(figsize=(18, 4))\n",
    "plt.plot(history_best_sigmas, 'r-')\n",
    "plt.xlabel('iteration')\n",
    "plt.ylabel('sigma value')\n",
    "plt.title('best sigmas')\n",
    "plt.show()"
   ]
  },
  {
   "cell_type": "code",
   "execution_count": null,
   "metadata": {
    "scrolled": false
   },
   "outputs": [],
   "source": [
    "# for k in diag:\n",
    "#     print(k, diag[k])\n",
    "\n",
    "# x, y = diag['min_x'], diag['min_y']\n",
    "# plt.plot(x, y)\n",
    "# plt.scatter([x[-1]], [y[-1]], c='r')\n",
    "# plt.scatter([target[0]], [target[1]], c='g')\n",
    "# plt.axis('equal')\n",
    "# plt.show()\n",
    "\n",
    "x, y = diag['max_x'], diag['max_y']\n",
    "plt.plot(x, y)\n",
    "plt.scatter([x[-1]], [y[-1]], c='r')\n",
    "plt.scatter([target[0]], [target[1]], c='g')\n",
    "plt.axis('equal')\n",
    "plt.show()"
   ]
  }
 ],
 "metadata": {
  "kernelspec": {
   "display_name": "Python 3",
   "language": "python",
   "name": "python3"
  },
  "language_info": {
   "codemirror_mode": {
    "name": "ipython",
    "version": 3
   },
   "file_extension": ".py",
   "mimetype": "text/x-python",
   "name": "python",
   "nbconvert_exporter": "python",
   "pygments_lexer": "ipython3",
   "version": "3.7.0"
  }
 },
 "nbformat": 4,
 "nbformat_minor": 2
}
