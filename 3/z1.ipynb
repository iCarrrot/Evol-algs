{
 "cells": [
  {
   "cell_type": "code",
   "execution_count": 2,
   "metadata": {},
   "outputs": [],
   "source": [
    "import numpy as np\n",
    "import matplotlib.pyplot as plt\n",
    "import time\n",
    "from collections import namedtuple\n",
    "%load_ext autoreload\n",
    "%autoreload 2\n",
    "%matplotlib inline"
   ]
  },
  {
   "cell_type": "code",
   "execution_count": 24,
   "metadata": {},
   "outputs": [],
   "source": [
    "from utils import *\n",
    "from ES import ES\n",
    "from benchmarks import *"
   ]
  },
  {
   "cell_type": "code",
   "execution_count": 100,
   "metadata": {
    "scrolled": false
   },
   "outputs": [
    {
     "name": "stdout",
     "output_type": "stream",
     "text": [
      "test: próba 0; wynik: 11.444307248218871; czas: 0.1512470245361328\n",
      "test: próba 1; wynik: 9.918232667692987; czas: 0.12049746513366699\n",
      "test: próba 2; wynik: 12.010336476076041; czas: 0.15681934356689453\n",
      "test: próba 3; wynik: 10.983177660227744; czas: 0.12731575965881348\n",
      "test: próba 4; wynik: 11.676591161948961; czas: 0.13972115516662598\n",
      "test: próba 5; wynik: 11.747564272542935; czas: 0.12716913223266602\n",
      "test: próba 6; wynik: 10.15151694983453; czas: 0.13528990745544434\n",
      "test: próba 7; wynik: 13.03123539323034; czas: 0.12401509284973145\n",
      "test: próba 8; wynik: 9.959318840427647; czas: 0.15446257591247559\n",
      "test: próba 9; wynik: 11.143850181598152; czas: 0.12341189384460449\n"
     ]
    },
    {
     "data": {
      "image/png": "[encoded data removed]",
      "text/plain": [
       "<Figure size 1080x360 with 1 Axes>"
      ]
     },
     "metadata": {
      "needs_background": "light"
     },
     "output_type": "display_data"
    },
    {
     "name": "stdout",
     "output_type": "stream",
     "text": [
      "\n",
      "Wynik test: 9.918232667692987; czas: 1.5522570610046387, \n",
      "\n",
      "\n",
      "\n"
     ]
    },
    {
     "data": {
      "image/png": "[encoded data removed]",
      "text/plain": [
       "<Figure size 432x288 with 1 Axes>"
      ]
     },
     "metadata": {
      "needs_background": "light"
     },
     "output_type": "display_data"
    }
   ],
   "source": [
    "evkwargs = {\n",
    "        'mi':100,\n",
    "        'Lambda':150,\n",
    "        'd':50,\n",
    "        'population_evaluation': lambda x: (x ** 2).sum(axis=1),\n",
    "        'number_of_iterations':200,\n",
    "        'K':0.5,\n",
    "        'plus':True\n",
    "}\n",
    "pltkwargs = {\n",
    "    'tries':10,\n",
    "    'barplot':True,\n",
    "    'file':False,\n",
    "    'filename':'',\n",
    "    'title':'test',\n",
    "    'verbose' : True\n",
    "}\n",
    "plot_scores(ES, **pltkwargs, **evkwargs)"
   ]
  },
  {
   "cell_type": "code",
   "execution_count": 52,
   "metadata": {
    "scrolled": false
   },
   "outputs": [],
   "source": [
    "benchData = namedtuple('benchData', 'func, domain, min, argmin')\n",
    "\n",
    "benchList = {\n",
    "    'Griewank':benchData(griewank, (-500, 500), 0, \"0,0,..\"),\n",
    "    'Rastrigin':benchData(rast, (-5.12, 5.12), 0, \"0,0,..\"),\n",
    "    'Schwefel':benchData(rast, (-500, 500), 0, \"1,1,..\"),\n",
    "    'Dixon & Price':benchData(rast, (-10, 10), 0, \"0,0,..\"),\n",
    "    'Sphere':benchData(rast, (-5.12, 5.12), 0, \"0,0,..\")\n",
    "}\n",
    "\n",
    "evkwargs = {\n",
    "        'mi':500,\n",
    "        'Lambda':4000,\n",
    "        'd':2,\n",
    "        'number_of_iterations':50,\n",
    "        'K':0.6,\n",
    "}\n",
    "\n",
    "pltkwargs = {\n",
    "    'tries':10,\n",
    "    'barplot':True,\n",
    "    'file':False,\n",
    "    'verbose' : True\n",
    "}\n",
    "for name in benchList:\n",
    "    for plus in [True, False]:\n",
    "        evkwargs = {\n",
    "            **evkwargs,\n",
    "            'population_evaluation': benchList[name].func,\n",
    "            'domain': benchList[name].domain,\n",
    "            'plus': plus\n",
    "        }\n",
    "        pltkwargs['title'] = f'Name: {name} {\"plus \" if plus else \"\"} (min: {benchList[name].min})'\n",
    "        pltkwargs['filename'] = f'z1_{name}{\"_plus \" if plus else \"\"}'\n",
    "        \n",
    "        plot_scores(ES, **pltkwargs, **evkwargs)\n",
    "    \n"
   ]
  }
 ],
 "metadata": {
  "kernelspec": {
   "display_name": "Python 3",
   "language": "python",
   "name": "python3"
  },
  "language_info": {
   "codemirror_mode": {
    "name": "ipython",
    "version": 3
   },
   "file_extension": ".py",
   "mimetype": "text/x-python",
   "name": "python",
   "nbconvert_exporter": "python",
   "pygments_lexer": "ipython3",
   "version": "3.7.0"
  }
 },
 "nbformat": 4,
 "nbformat_minor": 2
}
