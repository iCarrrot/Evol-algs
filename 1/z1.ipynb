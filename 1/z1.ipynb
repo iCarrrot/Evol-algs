{
 "cells": [
  {
   "cell_type": "markdown",
   "metadata": {},
   "source": [
    "# Simulated Annealing Demo\n",
    "\n",
    "Skrypt przedstawia przykładową implementację algorytmu symulowanego wyżarzania (ang. Simulated Annealing, SA) i jego zastosowanie do rozwiązywania problemu Quadratic Assignment Problem (QAP). Problem jest dokładnie opisany m.in. w pracy Burkarda i innych [1]. Popularne instancje problemu QAP można znaleźć w bibliotece QAPLib [2]. Skrypt skupia się na rozwiązywaniu instancji NUG12 [3], w celu rozwiązywania innych instancji może okazać się konieczna zmiana ustawień parametrów algorytmu.\n",
    "\n",
    "Literatura:\n",
    "\n",
    "[1]  Burkard, R., Cela, E., Pardalos, P., Pitsoulis, L., \"The Quadratic Assignment Problem\", http://citeseerx.ist.psu.edu/viewdoc/summary?doi=10.1.1.217.1914\n",
    "\n",
    "[2] QAPLIB, http://anjos.mgi.polymtl.ca/qaplib/\n",
    "\n",
    "[3] NUG12, http://anjos.mgi.polymtl.ca/qaplib/data.d/nug12.dat"
   ]
  },
  {
   "cell_type": "raw",
   "metadata": {},
   "source": [
    "# Popularne instancje QAP wraz z dokładnym minimum funkcji celu\n",
    "   Nug12   12    578 (OPT)    (12,7,9,3,4,8,11,1,5,6,10,2)                 \n",
    "   Nug14   14   1014 (OPT)    (9,8,13,2,1,11,7,14,3,4,12,5,6,10)            \n",
    "   Nug15   15   1150 (OPT)    (1,2,13,8,9,4,3,14,7,11,10,15,6,5,12)          \n",
    "   Nug16a  16   1610 (OPT)    (9,14,2,15,16,3,10,12,8,11,6,5,7,1,4,13)      \n",
    "   Nug16b  16   1240 (OPT)    (16,12,13,8,4,2,9,11,15,10,7,3,14,6,1,5)       \n",
    "   Nug17   17   1732 (OPT)    (16,15,2,14,9,11,8,12,10,3,4,1,7,6,13,17,5)       \n",
    "   Nug18   18   1930 (OPT)    (10,3,14,2,18,6,7,12,15,4,5,1,11,8,17,13,9,16)     \n",
    "   Nug20   20   2570 (OPT)    (18,14,10,3,9,4,2,12,11,16,19,15,20,8,13,17,5,7,1,6)\n",
    "   Nug21   21   2438 (OPT)    (4,21,3,9,13,2,5,14,18,11,16,10,6,15,20,19,8,7,1,12,17) \n",
    "   Nug22   22   3596 (OPT)    (2,21,9,10,7,3,1,19,8,20,17,5,13,6,12,16,11,22,18,14,15) \n",
    "   Nug24   24   3488 (OPT)    (17,8,11,23,4,20,15,19,22,18,3,14,1,10,7,9,16,21,24,12,6,13,5,2)\n",
    "   Nug25   25   3744 (OPT)    (5,11,20,15,22,2,25,8,9,1,18,16,3,6,19,24,21,14,7,10,17,12,4,23,13)\n",
    "*  Nug27   27   5234 (OPT)    (23,18,3,1,27,17,5,12,7,15,4,26,8,19,20,2,24,21,14,10,9,13,22,25,6,16,11)\n",
    "*  Nug28   28   5166 (OPT)    (18,21,9,1,28,20,11,3,13,12,10,19,14,22,15,2,25,16,4,23,7,17,24,26,5,27,8,6)\n",
    "*  Nug30   30   6124 (OPT)    (5 12 6 13 2 21 26 24 10 9 29 28 17 1 8 7 19 25 23 22 11 16 30 4 15 18 27 3 14 20)   "
   ]
  },
  {
   "cell_type": "code",
   "execution_count": 1,
   "metadata": {},
   "outputs": [],
   "source": [
    "import numpy as np\n",
    "import matplotlib.pyplot as plt\n",
    "import time\n",
    "import urllib.request\n",
    "\n",
    "%matplotlib inline"
   ]
  },
  {
   "cell_type": "code",
   "execution_count": 2,
   "metadata": {},
   "outputs": [],
   "source": [
    "nug = 12\n",
    "QAP_INSTANCE_URL = lambda x: f'http://anjos.mgi.polymtl.ca/qaplib/data.d/nug{x}.dat'"
   ]
  },
  {
   "cell_type": "markdown",
   "metadata": {},
   "source": [
    "## Reading input data"
   ]
  },
  {
   "cell_type": "code",
   "execution_count": 3,
   "metadata": {},
   "outputs": [
    {
     "name": "stdout",
     "output_type": "stream",
     "text": [
      "Problem size: 12\n",
      "Flow matrix:\n",
      " [[0. 1. 2. 3. 1. 2. 3. 4. 2. 3. 4. 5.]\n",
      " [1. 0. 1. 2. 2. 1. 2. 3. 3. 2. 3. 4.]\n",
      " [2. 1. 0. 1. 3. 2. 1. 2. 4. 3. 2. 3.]\n",
      " [3. 2. 1. 0. 4. 3. 2. 1. 5. 4. 3. 2.]\n",
      " [1. 2. 3. 4. 0. 1. 2. 3. 1. 2. 3. 4.]\n",
      " [2. 1. 2. 3. 1. 0. 1. 2. 2. 1. 2. 3.]\n",
      " [3. 2. 1. 2. 2. 1. 0. 1. 3. 2. 1. 2.]\n",
      " [4. 3. 2. 1. 3. 2. 1. 0. 4. 3. 2. 1.]\n",
      " [2. 3. 4. 5. 1. 2. 3. 4. 0. 1. 2. 3.]\n",
      " [3. 2. 3. 4. 2. 1. 2. 3. 1. 0. 1. 2.]\n",
      " [4. 3. 2. 3. 3. 2. 1. 2. 2. 1. 0. 1.]\n",
      " [5. 4. 3. 2. 4. 3. 2. 1. 3. 2. 1. 0.]]\n",
      "Distance matrix:\n",
      " [[ 0.  5.  2.  4.  1.  0.  0.  6.  2.  1.  1.  1.]\n",
      " [ 5.  0.  3.  0.  2.  2.  2.  0.  4.  5.  0.  0.]\n",
      " [ 2.  3.  0.  0.  0.  0.  0.  5.  5.  2.  2.  2.]\n",
      " [ 4.  0.  0.  0.  5.  2.  2. 10.  0.  0.  5.  5.]\n",
      " [ 1.  2.  0.  5.  0. 10.  0.  0.  0.  5.  1.  1.]\n",
      " [ 0.  2.  0.  2. 10.  0.  5.  1.  1.  5.  4.  0.]\n",
      " [ 0.  2.  0.  2.  0.  5.  0. 10.  5.  2.  3.  3.]\n",
      " [ 6.  0.  5. 10.  0.  1. 10.  0.  0.  0.  5.  0.]\n",
      " [ 2.  4.  5.  0.  0.  1.  5.  0.  0.  0. 10. 10.]\n",
      " [ 1.  5.  2.  0.  5.  5.  2.  0.  0.  0.  5.  0.]\n",
      " [ 1.  0.  2.  5.  1.  4.  3.  5. 10.  5.  0.  2.]\n",
      " [ 1.  0.  2.  5.  1.  0.  3.  0. 10.  0.  2.  0.]]\n"
     ]
    }
   ],
   "source": [
    "def get_data(nug):\n",
    "    qap_instance_file = urllib.request.urlopen(QAP_INSTANCE_URL(nug))\n",
    "\n",
    "    line = qap_instance_file.readline()\n",
    "    n = int(line.decode()[:-1].split()[0])\n",
    "    print('Problem size: %d' % n)\n",
    "\n",
    "    A = np.empty((n, n))\n",
    "    qap_instance_file.readline()\n",
    "    for i in range(n):\n",
    "        line = qap_instance_file.readline()\n",
    "        A[i, :] = list(map(int, line.decode()[:-1].split()))\n",
    "    print('Flow matrix:\\n', A)\n",
    "\n",
    "    B = np.empty((n, n))\n",
    "    qap_instance_file.readline()\n",
    "    for i in range(n):\n",
    "        line = qap_instance_file.readline()\n",
    "        B[i, :] = list(map(int, line.decode()[:-1].split()))\n",
    "    print('Distance matrix:\\n', B)\n",
    "    return A, B\n",
    "\n",
    "A, B = get_data(nug)"
   ]
  },
  {
   "cell_type": "markdown",
   "metadata": {},
   "source": [
    "## Objective function"
   ]
  },
  {
   "cell_type": "code",
   "execution_count": 4,
   "metadata": {},
   "outputs": [],
   "source": [
    "def qap_objective_function(p, A, B, n):\n",
    "    s = 0.0\n",
    "    for i in range(n):\n",
    "        s += (A[i, :] * B[p[i], p]).sum()\n",
    "    return s"
   ]
  },
  {
   "cell_type": "code",
   "execution_count": 5,
   "metadata": {},
   "outputs": [
    {
     "name": "stdout",
     "output_type": "stream",
     "text": [
      "578.0 [11, 6, 8, 2, 3, 7, 10, 0, 4, 5, 9, 1]\n"
     ]
    }
   ],
   "source": [
    "p = [11, 6, 8, 2, 3, 7, 10, 0, 4, 5, 9, 1]\n",
    "print(qap_objective_function(p, A, B, nug), p)"
   ]
  },
  {
   "cell_type": "markdown",
   "metadata": {},
   "source": [
    "## Random Sampling"
   ]
  },
  {
   "cell_type": "code",
   "execution_count": 11,
   "metadata": {
    "scrolled": true
   },
   "outputs": [
    {
     "name": "stdout",
     "output_type": "stream",
     "text": [
      "0\n",
      "10000\n",
      "20000\n",
      "30000\n",
      "40000\n",
      "50000\n",
      "60000\n",
      "70000\n",
      "80000\n",
      "90000\n",
      "100000\n",
      "110000\n",
      "120000\n",
      "130000\n",
      "140000\n",
      "150000\n",
      "160000\n",
      "170000\n",
      "180000\n",
      "190000\n",
      "200000\n",
      "210000\n",
      "220000\n",
      "230000\n",
      "240000\n",
      "250000\n",
      "260000\n",
      "270000\n",
      "280000\n",
      "290000\n",
      "300000\n",
      "310000\n",
      "320000\n",
      "330000\n",
      "340000\n",
      "350000\n",
      "360000\n",
      "370000\n",
      "380000\n",
      "390000\n",
      "400000\n",
      "410000\n",
      "420000\n",
      "430000\n",
      "440000\n",
      "450000\n",
      "460000\n",
      "470000\n",
      "480000\n",
      "490000\n",
      "500000\n",
      "510000\n",
      "520000\n",
      "530000\n",
      "540000\n",
      "550000\n",
      "560000\n",
      "570000\n",
      "580000\n",
      "590000\n",
      "600000\n",
      "610000\n",
      "620000\n",
      "630000\n",
      "640000\n",
      "650000\n",
      "660000\n",
      "670000\n",
      "680000\n",
      "690000\n",
      "700000\n",
      "710000\n",
      "720000\n",
      "730000\n",
      "740000\n",
      "750000\n",
      "760000\n",
      "770000\n",
      "780000\n",
      "790000\n",
      "800000\n",
      "810000\n",
      "820000\n",
      "830000\n",
      "840000\n",
      "850000\n",
      "860000\n",
      "870000\n",
      "880000\n",
      "890000\n",
      "900000\n",
      "910000\n",
      "920000\n",
      "930000\n",
      "940000\n",
      "950000\n",
      "960000\n",
      "970000\n",
      "980000\n",
      "990000\n",
      "175.89068961143494\n",
      "590.0 [ 4  5  9  1  3  7  6  0 11 10  8  2]\n"
     ]
    }
   ],
   "source": [
    "t0 = time.time()\n",
    "\n",
    "T = 1000000\n",
    "\n",
    "permutations = np.empty((T, nug), dtype=np.int64)\n",
    "rand_costs = np.zeros(T)\n",
    "for i in range(T):\n",
    "    if i%10000 == 0:\n",
    "        print(i)\n",
    "    permutations[i, :] = np.random.permutation(nug)\n",
    "    rand_costs[i] = qap_objective_function(permutations[i, :], A, B, nug)\n",
    "\n",
    "print(time.time() - t0)\n",
    "\n",
    "p = permutations[rand_costs.argmin(), :]\n",
    "print(qap_objective_function(p, A, B, nug), p)"
   ]
  },
  {
   "cell_type": "code",
   "execution_count": 12,
   "metadata": {},
   "outputs": [
    {
     "data": {
      "image/png": "[encoded data removed]",
      "text/plain": [
       "<Figure size 432x288 with 1 Axes>"
      ]
     },
     "metadata": {
      "needs_background": "light"
     },
     "output_type": "display_data"
    },
    {
     "data": {
      "image/png": "[encoded data removed]",
      "text/plain": [
       "<Figure size 432x288 with 1 Axes>"
      ]
     },
     "metadata": {
      "needs_background": "light"
     },
     "output_type": "display_data"
    },
    {
     "name": "stdout",
     "output_type": "stream",
     "text": [
      "812.02107 49.69280173279726\n"
     ]
    }
   ],
   "source": [
    "plt.figure()\n",
    "plt.plot(rand_costs)\n",
    "plt.show()\n",
    "plt.figure()\n",
    "plt.hist(rand_costs, bins=100)\n",
    "plt.show()\n",
    "\n",
    "print(rand_costs.mean(), rand_costs.std())"
   ]
  },
  {
   "cell_type": "markdown",
   "metadata": {},
   "source": [
    "## Simulated Annealing"
   ]
  },
  {
   "cell_type": "code",
   "execution_count": 13,
   "metadata": {},
   "outputs": [],
   "source": [
    "def random_neighbor(p, radius, n):\n",
    "    q = p.copy()\n",
    "    for r in range(radius):\n",
    "        i, j = np.random.choice(n, 2, replace=False)\n",
    "        q[i], q[j] = q[j], q[i]\n",
    "    return q\n",
    "\n",
    "def sa(T, radius, alpha, A, B, n):\n",
    "    p = np.random.permutation(n)\n",
    "    p_cost = qap_objective_function(p, A, B, n)\n",
    "    costs = np.zeros(T)\n",
    "    for t in range(T):\n",
    "        if t%10000 == 0:\n",
    "            print(t)\n",
    "        q = random_neighbor(p, radius, n)\n",
    "        q_cost = qap_objective_function(q, A, B, n)\n",
    "        if(q_cost < p_cost):\n",
    "            p, p_cost = q, q_cost\n",
    "        elif(np.random.rand() < np.exp(- alpha * (q_cost - p_cost) * t/T)):\n",
    "            p, p_cost = q, q_cost\n",
    "        costs[t] = p_cost\n",
    "    return costs"
   ]
  },
  {
   "cell_type": "code",
   "execution_count": 14,
   "metadata": {
    "scrolled": true
   },
   "outputs": [
    {
     "name": "stdout",
     "output_type": "stream",
     "text": [
      "0\n",
      "10000\n",
      "20000\n",
      "30000\n",
      "40000\n",
      "50000\n",
      "60000\n",
      "70000\n",
      "80000\n",
      "90000\n",
      "100000\n",
      "110000\n",
      "120000\n",
      "130000\n",
      "140000\n",
      "150000\n",
      "160000\n",
      "170000\n",
      "180000\n",
      "190000\n",
      "200000\n",
      "210000\n",
      "220000\n",
      "230000\n",
      "240000\n",
      "250000\n",
      "260000\n",
      "270000\n",
      "280000\n",
      "290000\n",
      "300000\n",
      "310000\n",
      "320000\n",
      "330000\n",
      "340000\n",
      "350000\n",
      "360000\n",
      "370000\n",
      "380000\n",
      "390000\n",
      "400000\n",
      "410000\n",
      "420000\n",
      "430000\n",
      "440000\n",
      "450000\n",
      "460000\n",
      "470000\n",
      "480000\n",
      "490000\n",
      "131.20671033859253 578.0\n"
     ]
    },
    {
     "data": {
      "image/png": "[encoded data removed]",
      "text/plain": [
       "<Figure size 432x288 with 1 Axes>"
      ]
     },
     "metadata": {
      "needs_background": "light"
     },
     "output_type": "display_data"
    }
   ],
   "source": [
    "T = 500000\n",
    "radius = 1\n",
    "alpha = 1.0\n",
    "\n",
    "t0 = time.time()\n",
    "costs = sa(T, radius, alpha, A, B, nug)\n",
    "\n",
    "print(time.time() - t0, costs.min())\n",
    "plt.figure()\n",
    "plt.plot(costs)\n",
    "plt.scatter([np.argmin(costs)], [np.min(costs)], c='red')\n",
    "plt.show()"
   ]
  },
  {
   "cell_type": "code",
   "execution_count": 15,
   "metadata": {},
   "outputs": [
    {
     "name": "stdout",
     "output_type": "stream",
     "text": [
      "Problem size: 14\n",
      "Flow matrix:\n",
      " [[0. 1. 2. 3. 4. 1. 2. 3. 4. 5. 2. 3. 4. 5.]\n",
      " [1. 0. 1. 2. 3. 2. 1. 2. 3. 4. 3. 2. 3. 4.]\n",
      " [2. 1. 0. 1. 2. 3. 2. 1. 2. 3. 4. 3. 2. 3.]\n",
      " [3. 2. 1. 0. 1. 4. 3. 2. 1. 2. 5. 4. 3. 2.]\n",
      " [4. 3. 2. 1. 0. 5. 4. 3. 2. 1. 6. 5. 4. 3.]\n",
      " [1. 2. 3. 4. 5. 0. 1. 2. 3. 4. 1. 2. 3. 4.]\n",
      " [2. 1. 2. 3. 4. 1. 0. 1. 2. 3. 2. 1. 2. 3.]\n",
      " [3. 2. 1. 2. 3. 2. 1. 0. 1. 2. 3. 2. 1. 2.]\n",
      " [4. 3. 2. 1. 2. 3. 2. 1. 0. 1. 4. 3. 2. 1.]\n",
      " [5. 4. 3. 2. 1. 4. 3. 2. 1. 0. 5. 4. 3. 2.]\n",
      " [2. 3. 4. 5. 6. 1. 2. 3. 4. 5. 0. 1. 2. 3.]\n",
      " [3. 2. 3. 4. 5. 2. 1. 2. 3. 4. 1. 0. 1. 2.]\n",
      " [4. 3. 2. 3. 4. 3. 2. 1. 2. 3. 2. 1. 0. 1.]\n",
      " [5. 4. 3. 2. 3. 4. 3. 2. 1. 2. 3. 2. 1. 0.]]\n",
      "Distance matrix:\n",
      " [[ 0. 10.  0.  5.  1.  0.  1.  2.  2.  2.  2.  0.  4.  0.]\n",
      " [10.  0.  1.  3.  2.  2.  2.  3.  2.  0.  2.  0. 10.  5.]\n",
      " [ 0.  1.  0. 10.  2.  0.  2.  5.  4.  5.  2.  2.  5.  5.]\n",
      " [ 5.  3. 10.  0.  1.  1.  5.  0.  0.  2.  1.  0.  2.  5.]\n",
      " [ 1.  2.  2.  1.  0.  3.  5.  5.  5.  1.  0.  3.  0.  5.]\n",
      " [ 0.  2.  0.  1.  3.  0.  2.  2.  1.  5.  0.  0.  2.  5.]\n",
      " [ 1.  2.  2.  5.  5.  2.  0.  6.  0.  1.  5.  5.  5.  1.]\n",
      " [ 2.  3.  5.  0.  5.  2.  6.  0.  5.  2. 10.  0.  5.  0.]\n",
      " [ 2.  2.  4.  0.  5.  1.  0.  5.  0.  0. 10.  5. 10.  0.]\n",
      " [ 2.  0.  5.  2.  1.  5.  1.  2.  0.  0.  0.  4.  0.  0.]\n",
      " [ 2.  2.  2.  1.  0.  0.  5. 10. 10.  0.  0.  5.  0.  5.]\n",
      " [ 0.  0.  2.  0.  3.  0.  5.  0.  5.  4.  5.  0.  3.  3.]\n",
      " [ 4. 10.  5.  2.  0.  2.  5.  5. 10.  0.  0.  3.  0. 10.]\n",
      " [ 0.  5.  5.  5.  5.  5.  1.  0.  0.  0.  5.  3. 10.  0.]]\n",
      "0\n",
      "10000\n",
      "20000\n",
      "30000\n",
      "40000\n",
      "14.544840574264526 1018.0\n"
     ]
    },
    {
     "data": {
      "image/png": "[encoded data removed]",
      "text/plain": [
       "<Figure size 432x288 with 1 Axes>"
      ]
     },
     "metadata": {
      "needs_background": "light"
     },
     "output_type": "display_data"
    }
   ],
   "source": [
    "nug = 14\n",
    "A, B = get_data(nug)\n",
    "\n",
    "T = 50000\n",
    "radius = 1\n",
    "alpha = 1.0\n",
    "\n",
    "\n",
    "t0 = time.time()\n",
    "costs = sa(T, radius, alpha, A, B, nug)\n",
    "\n",
    "print(time.time() - t0, costs.min())\n",
    "\n",
    "plt.figure()\n",
    "plt.plot(costs)\n",
    "plt.scatter([np.argmin(costs)], [np.min(costs)], c='red')\n",
    "plt.show()"
   ]
  },
  {
   "cell_type": "code",
   "execution_count": 16,
   "metadata": {},
   "outputs": [
    {
     "name": "stdout",
     "output_type": "stream",
     "text": [
      "Problem size: 16\n",
      "Flow matrix:\n",
      " [[0. 1. 2. 3. 4. 1. 2. 3. 4. 5. 2. 3. 4. 5. 6. 3.]\n",
      " [1. 0. 1. 2. 3. 2. 1. 2. 3. 4. 3. 2. 3. 4. 5. 4.]\n",
      " [2. 1. 0. 1. 2. 3. 2. 1. 2. 3. 4. 3. 2. 3. 4. 5.]\n",
      " [3. 2. 1. 0. 1. 4. 3. 2. 1. 2. 5. 4. 3. 2. 3. 6.]\n",
      " [4. 3. 2. 1. 0. 5. 4. 3. 2. 1. 6. 5. 4. 3. 2. 7.]\n",
      " [1. 2. 3. 4. 5. 0. 1. 2. 3. 4. 1. 2. 3. 4. 5. 2.]\n",
      " [2. 1. 2. 3. 4. 1. 0. 1. 2. 3. 2. 1. 2. 3. 4. 3.]\n",
      " [3. 2. 1. 2. 3. 2. 1. 0. 1. 2. 3. 2. 1. 2. 3. 4.]\n",
      " [4. 3. 2. 1. 2. 3. 2. 1. 0. 1. 4. 3. 2. 1. 2. 5.]\n",
      " [5. 4. 3. 2. 1. 4. 3. 2. 1. 0. 5. 4. 3. 2. 1. 6.]\n",
      " [2. 3. 4. 5. 6. 1. 2. 3. 4. 5. 0. 1. 2. 3. 4. 1.]\n",
      " [3. 2. 3. 4. 5. 2. 1. 2. 3. 4. 1. 0. 1. 2. 3. 2.]\n",
      " [4. 3. 2. 3. 4. 3. 2. 1. 2. 3. 2. 1. 0. 1. 2. 3.]\n",
      " [5. 4. 3. 2. 3. 4. 3. 2. 1. 2. 3. 2. 1. 0. 1. 4.]\n",
      " [6. 5. 4. 3. 2. 5. 4. 3. 2. 1. 4. 3. 2. 1. 0. 5.]\n",
      " [3. 4. 5. 6. 7. 2. 3. 4. 5. 6. 1. 2. 3. 4. 5. 0.]]\n",
      "Distance matrix:\n",
      " [[ 0.  0.  5.  0.  5.  2. 10.  3.  1.  5.  5.  5.  0.  0.  5.  4.]\n",
      " [ 0.  0.  3. 10.  5.  1.  5.  1.  2.  4.  2.  5.  0. 10. 10.  3.]\n",
      " [ 5.  3.  0.  2.  0.  5.  2.  4.  4.  5.  0.  0.  0.  5.  1.  0.]\n",
      " [ 0. 10.  2.  0.  1.  0.  5.  2.  1.  0. 10.  2.  2.  0.  2.  1.]\n",
      " [ 5.  5.  0.  1.  0.  5.  6.  5.  2.  5.  2.  0.  5.  1.  1.  1.]\n",
      " [ 2.  1.  5.  0.  5.  0.  5.  2.  1.  6.  0.  0. 10.  0.  2.  0.]\n",
      " [10.  5.  2.  5.  6.  5.  0.  0.  0.  0.  5. 10.  2.  2.  5.  1.]\n",
      " [ 3.  1.  4.  2.  5.  2.  0.  0.  1.  1. 10. 10.  2.  0. 10.  2.]\n",
      " [ 1.  2.  4.  1.  2.  1.  0.  1.  0.  2.  0.  3.  5.  5.  0.  5.]\n",
      " [ 5.  4.  5.  0.  5.  6.  0.  1.  2.  0.  5.  5.  0.  5.  1.  0.]\n",
      " [ 5.  2.  0. 10.  2.  0.  5. 10.  0.  5.  0.  5.  2.  5.  1. 10.]\n",
      " [ 5.  5.  0.  2.  0.  0. 10. 10.  3.  5.  5.  0.  2. 10.  5.  0.]\n",
      " [ 0.  0.  0.  2.  5. 10.  2.  2.  5.  0.  2.  2.  0.  2.  2.  1.]\n",
      " [ 0. 10.  5.  0.  1.  0.  2.  0.  5.  5.  5. 10.  2.  0.  5.  5.]\n",
      " [ 5. 10.  1.  2.  1.  2.  5. 10.  0.  1.  1.  5.  2.  5.  0.  3.]\n",
      " [ 4.  3.  0.  1.  1.  0.  1.  2.  5.  0. 10.  0.  1.  5.  3.  0.]]\n",
      "0\n",
      "10000\n",
      "20000\n",
      "30000\n",
      "40000\n",
      "18.58911108970642 1618.0\n"
     ]
    },
    {
     "data": {
      "image/png": "[encoded data removed]",
      "text/plain": [
       "<Figure size 432x288 with 1 Axes>"
      ]
     },
     "metadata": {
      "needs_background": "light"
     },
     "output_type": "display_data"
    }
   ],
   "source": [
    "nug = 16\n",
    "A, B = get_data(\"16a\")\n",
    "\n",
    "T = 50000\n",
    "radius = 2\n",
    "alpha = 1.5\n",
    "\n",
    "\n",
    "t0 = time.time()\n",
    "costs = sa(T, radius, alpha, A, B, nug)\n",
    "\n",
    "print(time.time() - t0, costs.min())\n",
    "\n",
    "plt.figure()\n",
    "plt.plot(costs)\n",
    "plt.scatter([np.argmin(costs)], [np.min(costs)], c='red')\n",
    "plt.show()"
   ]
  },
  {
   "cell_type": "code",
   "execution_count": 17,
   "metadata": {},
   "outputs": [
    {
     "name": "stdout",
     "output_type": "stream",
     "text": [
      "Problem size: 16\n",
      "Flow matrix:\n",
      " [[0. 1. 2. 3. 1. 2. 3. 4. 2. 3. 4. 5. 3. 4. 5. 6.]\n",
      " [1. 0. 1. 2. 2. 1. 2. 3. 3. 2. 3. 4. 4. 3. 4. 5.]\n",
      " [2. 1. 0. 1. 3. 2. 1. 2. 4. 3. 2. 3. 5. 4. 3. 4.]\n",
      " [3. 2. 1. 0. 4. 3. 2. 1. 5. 4. 3. 2. 6. 5. 4. 3.]\n",
      " [1. 2. 3. 4. 0. 1. 2. 3. 1. 2. 3. 4. 2. 3. 4. 5.]\n",
      " [2. 1. 2. 3. 1. 0. 1. 2. 2. 1. 2. 3. 3. 2. 3. 4.]\n",
      " [3. 2. 1. 2. 2. 1. 0. 1. 3. 2. 1. 2. 4. 3. 2. 3.]\n",
      " [4. 3. 2. 1. 3. 2. 1. 0. 4. 3. 2. 1. 5. 4. 3. 2.]\n",
      " [2. 3. 4. 5. 1. 2. 3. 4. 0. 1. 2. 3. 1. 2. 3. 4.]\n",
      " [3. 2. 3. 4. 2. 1. 2. 3. 1. 0. 1. 2. 2. 1. 2. 3.]\n",
      " [4. 3. 2. 3. 3. 2. 1. 2. 2. 1. 0. 1. 3. 2. 1. 2.]\n",
      " [5. 4. 3. 2. 4. 3. 2. 1. 3. 2. 1. 0. 4. 3. 2. 1.]\n",
      " [3. 4. 5. 6. 2. 3. 4. 5. 1. 2. 3. 4. 0. 1. 2. 3.]\n",
      " [4. 3. 4. 5. 3. 2. 3. 4. 2. 1. 2. 3. 1. 0. 1. 2.]\n",
      " [5. 4. 3. 4. 4. 3. 2. 3. 3. 2. 1. 2. 2. 1. 0. 1.]\n",
      " [6. 5. 4. 3. 5. 4. 3. 2. 4. 3. 2. 1. 3. 2. 1. 0.]]\n",
      "Distance matrix:\n",
      " [[ 0.  0.  5.  0.  2. 10.  3.  1.  5.  5.  0.  0.  4.  4.  0.  0.]\n",
      " [ 0.  0.  3. 10.  1.  5.  1.  2.  2.  5.  0. 10.  3.  0.  5. 10.]\n",
      " [ 5.  3.  0.  2.  5.  2.  4.  4.  0.  0.  0.  5.  0.  0.  5.  0.]\n",
      " [ 0. 10.  2.  0.  0.  5.  2.  1. 10.  2.  2.  0.  1.  5.  2.  5.]\n",
      " [ 2.  1.  5.  0.  0.  5.  2.  1.  0.  0. 10.  0.  0.  1.  0.  1.]\n",
      " [10.  5.  2.  5.  5.  0.  0.  0.  5. 10.  2.  2.  1.  2.  1.  0.]\n",
      " [ 3.  1.  4.  2.  2.  0.  0.  1. 10. 10.  2.  0.  2.  5.  2.  2.]\n",
      " [ 1.  2.  4.  1.  1.  0.  1.  0.  0.  3.  5.  5.  5.  0.  0.  0.]\n",
      " [ 5.  2.  0. 10.  0.  5. 10.  0.  0.  5.  2.  5. 10.  0.  2.  2.]\n",
      " [ 5.  5.  0.  2.  0. 10. 10.  3.  5.  0.  2. 10.  0.  1.  1.  2.]\n",
      " [ 0.  0.  0.  2. 10.  2.  2.  5.  2.  2.  0.  2.  1.  0.  0.  0.]\n",
      " [ 0. 10.  5.  0.  0.  2.  0.  5.  5. 10.  2.  0.  5.  1.  5.  5.]\n",
      " [ 4.  3.  0.  1.  0.  1.  2.  5. 10.  0.  1.  5.  0.  0.  0.  2.]\n",
      " [ 4.  0.  0.  5.  1.  2.  5.  0.  0.  1.  0.  1.  0.  0.  5.  2.]\n",
      " [ 0.  5.  5.  2.  0.  1.  2.  0.  2.  1.  0.  5.  0.  5.  0.  1.]\n",
      " [ 0. 10.  0.  5.  1.  0.  2.  0.  2.  2.  0.  5.  2.  2.  1.  0.]]\n",
      "0\n",
      "10000\n",
      "20000\n",
      "30000\n",
      "40000\n",
      "17.96357798576355 1266.0\n"
     ]
    },
    {
     "data": {
      "image/png": "[encoded data removed]",
      "text/plain": [
       "<Figure size 432x288 with 1 Axes>"
      ]
     },
     "metadata": {
      "needs_background": "light"
     },
     "output_type": "display_data"
    }
   ],
   "source": [
    "nug = 16\n",
    "A, B = get_data(\"16b\")\n",
    "\n",
    "T = 50000\n",
    "radius = 2\n",
    "alpha = 1.5\n",
    "\n",
    "\n",
    "t0 = time.time()\n",
    "costs = sa(T, radius, alpha, A, B, nug)\n",
    "\n",
    "print(time.time() - t0, costs.min())\n",
    "\n",
    "plt.figure()\n",
    "plt.plot(costs)\n",
    "plt.scatter([np.argmin(costs)], [np.min(costs)], c='red')\n",
    "plt.show()"
   ]
  },
  {
   "cell_type": "code",
   "execution_count": 18,
   "metadata": {},
   "outputs": [
    {
     "name": "stdout",
     "output_type": "stream",
     "text": [
      "Problem size: 17\n",
      "Flow matrix:\n",
      " [[0. 1. 2. 3. 4. 1. 2. 3. 4. 5. 2. 3. 4. 5. 6. 3. 4.]\n",
      " [1. 0. 1. 2. 3. 2. 1. 2. 3. 4. 3. 2. 3. 4. 5. 4. 3.]\n",
      " [2. 1. 0. 1. 2. 3. 2. 1. 2. 3. 4. 3. 2. 3. 4. 5. 4.]\n",
      " [3. 2. 1. 0. 1. 4. 3. 2. 1. 2. 5. 4. 3. 2. 3. 6. 5.]\n",
      " [4. 3. 2. 1. 0. 5. 4. 3. 2. 1. 6. 5. 4. 3. 2. 7. 6.]\n",
      " [1. 2. 3. 4. 5. 0. 1. 2. 3. 4. 1. 2. 3. 4. 5. 2. 3.]\n",
      " [2. 1. 2. 3. 4. 1. 0. 1. 2. 3. 2. 1. 2. 3. 4. 3. 2.]\n",
      " [3. 2. 1. 2. 3. 2. 1. 0. 1. 2. 3. 2. 1. 2. 3. 4. 3.]\n",
      " [4. 3. 2. 1. 2. 3. 2. 1. 0. 1. 4. 3. 2. 1. 2. 5. 4.]\n",
      " [5. 4. 3. 2. 1. 4. 3. 2. 1. 0. 5. 4. 3. 2. 1. 6. 5.]\n",
      " [2. 3. 4. 5. 6. 1. 2. 3. 4. 5. 0. 1. 2. 3. 4. 1. 2.]\n",
      " [3. 2. 3. 4. 5. 2. 1. 2. 3. 4. 1. 0. 1. 2. 3. 2. 1.]\n",
      " [4. 3. 2. 3. 4. 3. 2. 1. 2. 3. 2. 1. 0. 1. 2. 3. 2.]\n",
      " [5. 4. 3. 2. 3. 4. 3. 2. 1. 2. 3. 2. 1. 0. 1. 4. 3.]\n",
      " [6. 5. 4. 3. 2. 5. 4. 3. 2. 1. 4. 3. 2. 1. 0. 5. 4.]\n",
      " [3. 4. 5. 6. 7. 2. 3. 4. 5. 6. 1. 2. 3. 4. 5. 0. 1.]\n",
      " [4. 3. 4. 5. 6. 3. 2. 3. 4. 5. 2. 1. 2. 3. 4. 1. 0.]]\n",
      "Distance matrix:\n",
      " [[ 0.  0.  5.  0.  5.  2. 10.  3.  1.  5.  5.  5.  0.  0.  5.  4.  4.]\n",
      " [ 0.  0.  3. 10.  5.  1.  5.  1.  2.  4.  2.  5.  0. 10. 10.  3.  0.]\n",
      " [ 5.  3.  0.  2.  0.  5.  2.  4.  4.  5.  0.  0.  0.  5.  1.  0.  0.]\n",
      " [ 0. 10.  2.  0.  1.  0.  5.  2.  1.  0. 10.  2.  2.  0.  2.  1.  5.]\n",
      " [ 5.  5.  0.  1.  0.  5.  6.  5.  2.  5.  2.  0.  5.  1.  1.  1.  5.]\n",
      " [ 2.  1.  5.  0.  5.  0.  5.  2.  1.  6.  0.  0. 10.  0.  2.  0.  1.]\n",
      " [10.  5.  2.  5.  6.  5.  0.  0.  0.  0.  5. 10.  2.  2.  5.  1.  2.]\n",
      " [ 3.  1.  4.  2.  5.  2.  0.  0.  1.  1. 10. 10.  2.  0. 10.  2.  5.]\n",
      " [ 1.  2.  4.  1.  2.  1.  0.  1.  0.  2.  0.  3.  5.  5.  0.  5.  0.]\n",
      " [ 5.  4.  5.  0.  5.  6.  0.  1.  2.  0.  5.  5.  0.  5.  1.  0.  0.]\n",
      " [ 5.  2.  0. 10.  2.  0.  5. 10.  0.  5.  0.  5.  2.  5.  1. 10.  0.]\n",
      " [ 5.  5.  0.  2.  0.  0. 10. 10.  3.  5.  5.  0.  2. 10.  5.  0.  1.]\n",
      " [ 0.  0.  0.  2.  5. 10.  2.  2.  5.  0.  2.  2.  0.  2.  2.  1.  0.]\n",
      " [ 0. 10.  5.  0.  1.  0.  2.  0.  5.  5.  5. 10.  2.  0.  5.  5.  1.]\n",
      " [ 5. 10.  1.  2.  1.  2.  5. 10.  0.  1.  1.  5.  2.  5.  0.  3.  0.]\n",
      " [ 4.  3.  0.  1.  1.  0.  1.  2.  5.  0. 10.  0.  1.  5.  3.  0.  0.]\n",
      " [ 4.  0.  0.  5.  5.  1.  2.  5.  0.  0.  0.  1.  0.  1.  0.  0.  0.]]\n",
      "0\n",
      "10000\n",
      "20000\n",
      "30000\n",
      "40000\n",
      "50000\n",
      "60000\n",
      "70000\n",
      "26.751920223236084 1732.0\n"
     ]
    },
    {
     "data": {
      "image/png": "[encoded data removed]",
      "text/plain": [
       "<Figure size 432x288 with 1 Axes>"
      ]
     },
     "metadata": {
      "needs_background": "light"
     },
     "output_type": "display_data"
    }
   ],
   "source": [
    "nug = 17\n",
    "A, B = get_data(nug)\n",
    "\n",
    "T = 80000\n",
    "radius = 1\n",
    "alpha = 0.5\n",
    "\n",
    "\n",
    "t0 = time.time()\n",
    "costs = sa(T, radius, alpha, A, B, nug)\n",
    "\n",
    "print(time.time() - t0, costs.min())\n",
    "\n",
    "plt.figure()\n",
    "plt.plot(costs)\n",
    "plt.scatter([np.argmin(costs)], [np.min(costs)], c='red')\n",
    "plt.show()"
   ]
  }
 ],
 "metadata": {
  "kernelspec": {
   "display_name": "Python 3",
   "language": "python",
   "name": "python3"
  },
  "language_info": {
   "codemirror_mode": {
    "name": "ipython",
    "version": 3
   },
   "file_extension": ".py",
   "mimetype": "text/x-python",
   "name": "python",
   "nbconvert_exporter": "python",
   "pygments_lexer": "ipython3",
   "version": "3.7.0"
  }
 },
 "nbformat": 4,
 "nbformat_minor": 2
}
