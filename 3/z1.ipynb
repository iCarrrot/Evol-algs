{
 "cells": [
  {
   "cell_type": "code",
   "execution_count": 1,
   "metadata": {},
   "outputs": [],
   "source": [
    "import numpy as np\n",
    "import matplotlib.pyplot as plt\n",
    "import time\n",
    "from collections import namedtuple\n",
    "%load_ext autoreload\n",
    "%autoreload 2\n",
    "%matplotlib inline"
   ]
  },
  {
   "cell_type": "code",
   "execution_count": 2,
   "metadata": {},
   "outputs": [],
   "source": [
    "from utils import *\n",
    "from ES import ES\n",
    "from benchmarks import *"
   ]
  },
  {
   "cell_type": "code",
   "execution_count": 8,
   "metadata": {
    "scrolled": false
   },
   "outputs": [
    {
     "name": "stdout",
     "output_type": "stream",
     "text": [
      "test: próba 0; wynik: 12.371654285480176; czas: 0.11271882057189941\n",
      "test: próba 1; wynik: 11.39625674638629; czas: 0.09399724006652832\n",
      "test: próba 2; wynik: 11.04705056980265; czas: 0.09206557273864746\n",
      "test: próba 3; wynik: 11.81841719311734; czas: 0.11815071105957031\n",
      "test: próba 4; wynik: 12.133144029555337; czas: 0.09472823143005371\n",
      "test: próba 5; wynik: 11.278770915284694; czas: 0.09427952766418457\n",
      "test: próba 6; wynik: 10.466504841926493; czas: 0.11672472953796387\n",
      "test: próba 7; wynik: 11.175686157563588; czas: 0.10096621513366699\n",
      "test: próba 8; wynik: 12.358212194214845; czas: 0.10120964050292969\n",
      "test: próba 9; wynik: 10.725412008850011; czas: 0.11229848861694336\n"
     ]
    },
    {
     "data": {
      "image/png": "[encoded data removed]",
      "text/plain": [
       "<Figure size 1080x360 with 1 Axes>"
      ]
     },
     "metadata": {
      "needs_background": "light"
     },
     "output_type": "display_data"
    },
    {
     "data": {
      "image/png": "[encoded data removed]",
      "text/plain": [
       "<Figure size 1080x360 with 1 Axes>"
      ]
     },
     "metadata": {
      "needs_background": "light"
     },
     "output_type": "display_data"
    },
    {
     "name": "stdout",
     "output_type": "stream",
     "text": [
      "\n",
      "Wynik test: 10.466504841926493; czas: 1.4249632358551025, \n",
      "\n",
      "\n",
      "\n"
     ]
    },
    {
     "data": {
      "image/png": "[encoded data removed]",
      "text/plain": [
       "<Figure size 432x288 with 1 Axes>"
      ]
     },
     "metadata": {
      "needs_background": "light"
     },
     "output_type": "display_data"
    }
   ],
   "source": [
    "evkwargs = {\n",
    "        'mi':100,\n",
    "        'Lambda':150,\n",
    "        'd':50,\n",
    "        'population_evaluation': lambda x: (x ** 2).sum(axis=1),\n",
    "        'number_of_iterations':200,\n",
    "        'K':0.5,\n",
    "        'plus':True\n",
    "}\n",
    "pltkwargs = {\n",
    "    'tries':10,\n",
    "    'barplot':True,\n",
    "    'file':False,\n",
    "    'filename':'',\n",
    "    'title':'test',\n",
    "    'verbose' : True\n",
    "}\n",
    "plot_scores(ES, **pltkwargs, **evkwargs)"
   ]
  },
  {
   "cell_type": "code",
   "execution_count": null,
   "metadata": {
    "scrolled": false
   },
   "outputs": [],
   "source": [
    "benchData = namedtuple('benchData', 'func, domain, min, argmin')\n",
    "\n",
    "benchList = {\n",
    "    'Sphere':benchData(rast, (-5.12, 5.12), 0, \"0,0,..\"),\n",
    "    'Griewank':benchData(griewank, (-500, 500), 0, \"0,0,..\"),\n",
    "    'Rastrigin':benchData(rast, (-5.12, 5.12), 0, \"0,0,..\"),\n",
    "    'Schwefel':benchData(rast, (-500, 500), 0, \"1,1,..\"),\n",
    "    'Dixon & Price':benchData(rast, (-10, 10), 0, \"0,0,..\"),\n",
    "}\n",
    "\n",
    "evkwargs = {\n",
    "        'mi':500,\n",
    "        'Lambda':4000,\n",
    "        'd':50,\n",
    "        'number_of_iterations':1000,\n",
    "        'K':0.6,\n",
    "}\n",
    "\n",
    "pltkwargs = {\n",
    "    'tries':2,\n",
    "    'barplot':True,\n",
    "    'file':False,\n",
    "    'verbose' : True\n",
    "}\n",
    "for name in benchList:\n",
    "    for plus in [True, False]:\n",
    "        evkwargs = {\n",
    "            **evkwargs,\n",
    "            'population_evaluation': benchList[name].func,\n",
    "            'domain': benchList[name].domain,\n",
    "            'plus': plus\n",
    "        }\n",
    "        pltkwargs['title'] = f'Name: {name} {\"plus \" if plus else \"\"} (min: {benchList[name].min})'\n",
    "        pltkwargs['filename'] = f'z1_{name}{\"_plus \" if plus else \"\"}'\n",
    "        \n",
    "        plot_scores(ES, **pltkwargs, **evkwargs)\n",
    "    \n"
   ]
  },
  {
   "cell_type": "code",
   "execution_count": null,
   "metadata": {
    "scrolled": false
   },
   "outputs": [],
   "source": [
    "benchData = namedtuple('benchData', 'func, domain, min, argmin')\n",
    "\n",
    "benchList = {\n",
    "    'Griewank':benchData(griewank, (-500, 500), 0, \"0,0,..\"),\n",
    "    'Rastrigin':benchData(rast, (-5.12, 5.12), 0, \"0,0,..\"),\n",
    "    'Schwefel':benchData(rast, (-500, 500), 0, \"1,1,..\"),\n",
    "    'Dixon & Price':benchData(rast, (-10, 10), 0, \"0,0,..\"),\n",
    "    'Sphere':benchData(rast, (-5.12, 5.12), 0, \"0,0,..\")\n",
    "}\n",
    "\n",
    "evkwargs = {\n",
    "        'mi':500,\n",
    "        'Lambda':4000,\n",
    "        'd':50,\n",
    "        'number_of_iterations':500,\n",
    "        'K':0.6,\n",
    "}\n",
    "\n",
    "pltkwargs = {\n",
    "    'tries':2,\n",
    "    'barplot':True,\n",
    "    'file':False,\n",
    "    'verbose' : True\n",
    "}\n",
    "for name in benchList:\n",
    "    for plus in [True]:\n",
    "        evkwargs = {\n",
    "            **evkwargs,\n",
    "            'population_evaluation': benchList[name].func,\n",
    "            'domain': benchList[name].domain,\n",
    "            'plus': plus\n",
    "        }\n",
    "        pltkwargs['title'] = f'Name: {name} {\"plus \" if plus else \"\"} (min: {benchList[name].min})'\n",
    "        pltkwargs['filename'] = f'z1_{name}{\"_plus \" if plus else \"\"}'\n",
    "        \n",
    "        plot_scores(ES, **pltkwargs, **evkwargs)\n",
    "    \n"
   ]
  },
  {
   "cell_type": "code",
   "execution_count": null,
   "metadata": {},
   "outputs": [],
   "source": []
  }
 ],
 "metadata": {
  "kernelspec": {
   "display_name": "Python 3",
   "language": "python",
   "name": "python3"
  },
  "language_info": {
   "codemirror_mode": {
    "name": "ipython",
    "version": 3
   },
   "file_extension": ".py",
   "mimetype": "text/x-python",
   "name": "python",
   "nbconvert_exporter": "python",
   "pygments_lexer": "ipython3",
   "version": "3.7.0"
  }
 },
 "nbformat": 4,
 "nbformat_minor": 2
}
