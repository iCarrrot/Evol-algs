{
 "cells": [
  {
   "cell_type": "markdown",
   "metadata": {},
   "source": [
    "# Python Neural Genetic Algorithm Hybrids"
   ]
  },
  {
   "cell_type": "markdown",
   "metadata": {},
   "source": [
    "Tutorial: http://pyneurgen.sourceforge.net/tutorial_ge.html\n",
    "\n",
    "Need to use python2"
   ]
  },
  {
   "cell_type": "markdown",
   "metadata": {},
   "source": [
    "## Grammatical Evolution Tutorial:\n",
    "\n",
    "This tutorial presents a short, easy problem to solve using Grammatical Evolution techniques with this software. The example uses only the grammatical evolution portion rather than a hybrid for clarity.\n",
    "### Installation\n",
    "\n",
    "The quickest way to install is with easy_install. Since this is a Python library, at the Python prompt put:\n",
    "\n",
    "```bash\n",
    "easy_install pyneurgen\n",
    "```\n",
    "\n",
    "or:"
   ]
  },
  {
   "cell_type": "code",
   "execution_count": 1,
   "metadata": {},
   "outputs": [
    {
     "name": "stdout",
     "output_type": "stream",
     "text": [
      "Requirement already satisfied: pyneurgen in /home/michal/.local/lib/python2.7/site-packages (0.3.1)\n",
      "\u001b[33mYou are using pip version 18.1, however version 19.1.1 is available.\n",
      "You should consider upgrading via the 'pip install --upgrade pip' command.\u001b[0m\n"
     ]
    }
   ],
   "source": [
    "!python2 -m pip install pyneurgen --user"
   ]
  },
  {
   "cell_type": "code",
   "execution_count": 2,
   "metadata": {},
   "outputs": [],
   "source": [
    "from pyneurgen.grammatical_evolution import GrammaticalEvolution\n",
    "from pyneurgen.fitness import FitnessElites, FitnessTournament\n",
    "from pyneurgen.fitness import ReplacementTournament, MAX, MIN, CENTER"
   ]
  },
  {
   "cell_type": "code",
   "execution_count": 16,
   "metadata": {},
   "outputs": [],
   "source": [
    "bnf =   \"\"\"\n",
    "<expr>              ::= <expr> <biop> <expr> | <uop> <expr> | <real> |\n",
    "                        math.log(abs(<expr>)) | <pow> | math.sin(<expr>)|\n",
    "                        value | (<expr>)\n",
    "<biop>              ::= + | - | * | /\n",
    "<uop>               ::= + | -\n",
    "<pow>               ::= pow(<expr>, <real>)\n",
    "<plus>              ::= +\n",
    "<minus>             ::= -\n",
    "<real>              ::= <int-const>.<int-const>\n",
    "<int-const>         ::= <int-const> | 1 | 2 | 3 | 4 | 5 | 6 |\n",
    "                        7 | 8 | 9 | 0\n",
    "<S>                 ::=\n",
    "import math\n",
    "total = 0.0\n",
    "for i in xrange(100):\n",
    "    value = float(i) / float(100)\n",
    "    total += abs(<expr> - pow(value, 3))\n",
    "fitness = total\n",
    "self.set_bnf_variable('<fitness>', fitness)\n",
    "        \"\"\""
   ]
  },
  {
   "cell_type": "code",
   "execution_count": 17,
   "metadata": {},
   "outputs": [],
   "source": [
    "ges = GrammaticalEvolution()\n",
    "\n",
    "ges.set_bnf(bnf)\n",
    "ges.set_genotype_length(start_gene_length=20,\n",
    "                        max_gene_length=50)\n",
    "ges.set_population_size(50)\n",
    "ges.set_wrap(True)\n",
    "\n",
    "ges.set_max_generations(1000)\n",
    "ges.set_fitness_type(MIN, .01)\n",
    "\n",
    "ges.set_max_program_length(500)\n",
    "ges.set_timeouts(10, 120)\n",
    "ges.set_fitness_fail(100.0)\n",
    "\n",
    "ges.set_fitness_selections(\n",
    "    FitnessElites(ges.fitness_list, .05),\n",
    "    FitnessTournament(ges.fitness_list, tournament_size=2))\n",
    "ges.set_max_fitness_rate(.5)\n",
    "\n",
    "ges.set_mutation_rate(.025)\n",
    "ges.set_fitness_selections(\n",
    "    FitnessElites(ges.fitness_list, .05),\n",
    "    FitnessTournament(ges.fitness_list, tournament_size=2))\n",
    "ges.set_max_fitness_rate(.5)\n",
    "\n",
    "ges.set_crossover_rate(.2)\n",
    "ges.set_children_per_crossover(2)\n",
    "ges.set_mutation_type('m')\n",
    "ges.set_max_fitness_rate(.25)\n",
    "\n",
    "ges.set_replacement_selections(\n",
    "        ReplacementTournament(ges.fitness_list, tournament_size=3))\n",
    "\n",
    "ges.set_maintain_history(True)"
   ]
  },
  {
   "cell_type": "code",
   "execution_count": 18,
   "metadata": {},
   "outputs": [
    {
     "name": "stdout",
     "output_type": "stream",
     "text": [
      "34\n"
     ]
    }
   ],
   "source": [
    "ges.create_genotypes()\n",
    "print ges.run()"
   ]
  },
  {
   "cell_type": "code",
   "execution_count": 29,
   "metadata": {
    "scrolled": true
   },
   "outputs": [
    {
     "data": {
      "text/plain": [
       "[[0.0, 34],\n",
       " [0.640942314743, 0],\n",
       " [0.640942314743, 1],\n",
       " [0.640942314743, 2],\n",
       " [0.640942314743, 3],\n",
       " [0.640942314743, 4],\n",
       " [0.640942314743, 5],\n",
       " [0.640942314743, 6],\n",
       " [0.640942314743, 7],\n",
       " [0.640942314743, 8]]"
      ]
     },
     "execution_count": 29,
     "metadata": {},
     "output_type": "execute_result"
    }
   ],
   "source": [
    "sorted(ges.fitness_list)[:10]"
   ]
  },
  {
   "cell_type": "code",
   "execution_count": 20,
   "metadata": {},
   "outputs": [
    {
     "data": {
      "text/plain": [
       "[<matplotlib.lines.Line2D at 0x7f671932ddd0>]"
      ]
     },
     "execution_count": 20,
     "metadata": {},
     "output_type": "execute_result"
    },
    {
     "data": {
      "image/png": "[encoded data removed]",
      "text/plain": [
       "<matplotlib.figure.Figure at 0x7f67192b7750>"
      ]
     },
     "metadata": {
      "needs_background": "light"
     },
     "output_type": "display_data"
    }
   ],
   "source": [
    "%matplotlib inline\n",
    "import matplotlib.pyplot as plt\n",
    "plt.plot(ges.get_fitness_history())"
   ]
  },
  {
   "cell_type": "markdown",
   "metadata": {},
   "source": [
    "## Best generated program:"
   ]
  },
  {
   "cell_type": "code",
   "execution_count": 27,
   "metadata": {
    "scrolled": true
   },
   "outputs": [
    {
     "name": "stdout",
     "output_type": "stream",
     "text": [
      "import math\n",
      "total = 0.0\n",
      "for i in xrange(100):\n",
      "    value = float(i) / float(100)\n",
      "    total += abs(pow(value, 3.0) - pow(value, 3))\n",
      "fitness = total\n",
      "self.set_bnf_variable('<fitness>', fitness)\n",
      "\n"
     ]
    }
   ],
   "source": [
    "print ges.get_best_member().get_program()"
   ]
  },
  {
   "cell_type": "markdown",
   "metadata": {},
   "source": [
    "## Worst generated program:"
   ]
  },
  {
   "cell_type": "code",
   "execution_count": 28,
   "metadata": {
    "scrolled": true
   },
   "outputs": [
    {
     "name": "stdout",
     "output_type": "stream",
     "text": [
      "import math\n",
      "total = 0.0\n",
      "for i in xrange(100):\n",
      "    value = float(i) / float(100)\n",
      "    total += abs(6.2*+math.log(abs(math.log(abs(pow(++-math.sin(math.log(abs(++5.6)))/pow(pow(value, 3.9), 4.7)*value, 3.8))))) - pow(value, 3))\n",
      "fitness = total\n",
      "self.set_bnf_variable('<fitness>', fitness)\n",
      "\n"
     ]
    }
   ],
   "source": [
    "print ges.get_worst_member().get_program()"
   ]
  }
 ],
 "metadata": {
  "kernelspec": {
   "display_name": "Python 2",
   "language": "python",
   "name": "python2"
  },
  "language_info": {
   "codemirror_mode": {
    "name": "ipython",
    "version": 2
   },
   "file_extension": ".py",
   "mimetype": "text/x-python",
   "name": "python",
   "nbconvert_exporter": "python",
   "pygments_lexer": "ipython2",
   "version": "2.7.15rc1"
  }
 },
 "nbformat": 4,
 "nbformat_minor": 2
}
